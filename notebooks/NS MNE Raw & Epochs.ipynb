{
 "cells": [
  {
   "cell_type": "code",
   "execution_count": 70,
   "id": "a7f32110-e046-4c35-94cd-dfc8aeda9c9d",
   "metadata": {},
   "outputs": [],
   "source": [
    "import os\n",
    "\n",
    "import mne\n",
    "import numpy as np\n",
    "import matplotlib.pyplot as plt"
   ]
  },
  {
   "cell_type": "code",
   "execution_count": 71,
   "metadata": {},
   "outputs": [],
   "source": [
    "%matplotlib inline"
   ]
  },
  {
   "cell_type": "markdown",
   "metadata": {},
   "source": [
    "## `Raw` and `Epochs` objects in MNE"
   ]
  },
  {
   "cell_type": "markdown",
   "id": "08faf2c6",
   "metadata": {},
   "source": [
    "### Part 1 - Reading timeseries data from disk\n",
    "\n",
    "Timeseries data in MNE is stored in [`mne.io.Raw`](https://mne.tools/stable/generated/mne.io.Raw.html) objects.<br>\n",
    "`Raw` objects can be created through loading data from the disk via one of the various `mne.io.read_raw_xxx()` functions, or from an array directly.\n",
    "\n",
    "To familiarise ourselves with `Raw` objects, we will start by loading one from one of MNE's example datasets."
   ]
  },
  {
   "cell_type": "code",
   "execution_count": 72,
   "id": "1be1ad46",
   "metadata": {},
   "outputs": [
    {
     "name": "stdout",
     "output_type": "stream",
     "text": [
      "Opening raw data file C:\\Users\\tsbin\\mne_data\\MNE-sample-data\\MEG\\sample\\sample_audvis_raw.fif...\n",
      "    Read a total of 3 projection items:\n",
      "        PCA-v1 (1 x 102)  idle\n",
      "        PCA-v2 (1 x 102)  idle\n",
      "        PCA-v3 (1 x 102)  idle\n",
      "    Range : 25800 ... 192599 =     42.956 ...   320.670 secs\n",
      "Ready.\n"
     ]
    }
   ],
   "source": [
    "# filepath to MNE'S example datasets on disk\n",
    "sample_data_folder = mne.datasets.sample.data_path()\n",
    "\n",
    "# load example data from disk\n",
    "raw = mne.io.read_raw_fif(os.path.join(sample_data_folder, \"MEG\", \"sample\", \"sample_audvis_raw.fif\"))"
   ]
  },
  {
   "cell_type": "markdown",
   "id": "9ff126be",
   "metadata": {},
   "source": [
    "`Raw` objects contain:\n",
    "- the timeseries data\n",
    "- the metadata, stored under the `info` attribute"
   ]
  },
  {
   "cell_type": "code",
   "execution_count": 73,
   "id": "f453cf46",
   "metadata": {},
   "outputs": [
    {
     "data": {
      "text/html": [
       "<details open>\n",
       "    <summary><strong>General</strong></summary>\n",
       "    <table class=\"table table-hover table-striped table-sm table-responsive small\">\n",
       "        <tr>\n",
       "            <th>Measurement date</th>\n",
       "            \n",
       "            <td>December 03, 2002  19:01:10 GMT</td>\n",
       "            \n",
       "        </tr>\n",
       "        <tr>\n",
       "            <th>Experimenter</th>\n",
       "            \n",
       "            <td>MEG</td>\n",
       "            \n",
       "        </tr>\n",
       "        <tr>\n",
       "            <th>Participant</th>\n",
       "            \n",
       "            <td>Unknown</td>\n",
       "            \n",
       "        </tr>\n",
       "    </table>\n",
       "    </details>\n",
       "    <details open>\n",
       "        <summary><strong>Channels</strong></summary>\n",
       "        <table class=\"table table-hover table-striped table-sm table-responsive small\">\n",
       "            <tr>\n",
       "                <th>Digitized points</th>\n",
       "                \n",
       "                <td>146 points</td>\n",
       "                \n",
       "            </tr>\n",
       "            <tr>\n",
       "                <th>Good channels</th>\n",
       "                <td>203 Gradiometers, 102 Magnetometers, 9 Stimulus, 59 EEG, 1 EOG</td>\n",
       "            </tr>\n",
       "            <tr>\n",
       "                <th>Bad channels</th>\n",
       "                <td>MEG 2443, EEG 053</td>\n",
       "            </tr>\n",
       "            <tr>\n",
       "                <th>EOG channels</th>\n",
       "                <td>EOG 061</td>\n",
       "            </tr>\n",
       "            <tr>\n",
       "                <th>ECG channels</th>\n",
       "                <td>Not available</td>\n",
       "            </tr>\n",
       "        </table>\n",
       "        </details>\n",
       "        <details open>\n",
       "            <summary><strong>Data</strong></summary>\n",
       "            <table class=\"table table-hover table-striped table-sm table-responsive small\">\n",
       "                \n",
       "                <tr>\n",
       "                    <th>Sampling frequency</th>\n",
       "                    <td>600.61 Hz</td>\n",
       "                </tr>\n",
       "                \n",
       "                \n",
       "                <tr>\n",
       "                    <th>Highpass</th>\n",
       "                    <td>0.10 Hz</td>\n",
       "                </tr>\n",
       "                \n",
       "                \n",
       "                <tr>\n",
       "                    <th>Lowpass</th>\n",
       "                    <td>172.18 Hz</td>\n",
       "                </tr>\n",
       "                \n",
       "                \n",
       "                <tr>\n",
       "                    <th>Projections</th>\n",
       "                    <td>PCA-v1 : off<br />PCA-v2 : off<br />PCA-v3 : off</td>\n",
       "                </tr>\n",
       "                \n",
       "                \n",
       "                \n",
       "            </table>\n",
       "            </details>"
      ],
      "text/plain": [
       "<Info | 21 non-empty values\n",
       " acq_pars: ACQch001 110113 ACQch002 110112 ACQch003 110111 ACQch004 110122 ...\n",
       " bads: 2 items (MEG 2443, EEG 053)\n",
       " ch_names: MEG 0113, MEG 0112, MEG 0111, MEG 0122, MEG 0123, MEG 0121, MEG ...\n",
       " chs: 204 Gradiometers, 102 Magnetometers, 9 Stimulus, 60 EEG, 1 EOG\n",
       " custom_ref_applied: False\n",
       " description: acquisition (megacq) VectorView system at NMR-MGH\n",
       " dev_head_t: MEG device -> head transform\n",
       " dig: 146 items (3 Cardinal, 4 HPI, 61 EEG, 78 Extra)\n",
       " events: 1 item (list)\n",
       " experimenter: MEG\n",
       " file_id: 4 items (dict)\n",
       " highpass: 0.1 Hz\n",
       " hpi_meas: 1 item (list)\n",
       " hpi_results: 1 item (list)\n",
       " lowpass: 172.2 Hz\n",
       " meas_date: 2002-12-03 19:01:10 UTC\n",
       " meas_id: 4 items (dict)\n",
       " nchan: 376\n",
       " proj_id: 1 item (ndarray)\n",
       " proj_name: test\n",
       " projs: PCA-v1: off, PCA-v2: off, PCA-v3: off\n",
       " sfreq: 600.6 Hz\n",
       ">"
      ]
     },
     "execution_count": 73,
     "metadata": {},
     "output_type": "execute_result"
    }
   ],
   "source": [
    "raw.info"
   ]
  },
  {
   "cell_type": "markdown",
   "id": "e8586edd",
   "metadata": {},
   "source": [
    "For example, here you can see that the data we have loaded contains a mixture of MEG and EEG data sampled at 600 Hz."
   ]
  },
  {
   "cell_type": "markdown",
   "id": "bcb90bb1",
   "metadata": {},
   "source": [
    "The data itself can be accessed via the [`get_data()`]([https](https://mne.tools/stable/generated/mne.io.Raw.html#mne.io.Raw.get_data)) method, which returns an array of shape `(channels, times)`."
   ]
  },
  {
   "cell_type": "code",
   "execution_count": 74,
   "id": "7968a4cf",
   "metadata": {},
   "outputs": [
    {
     "name": "stdout",
     "output_type": "stream",
     "text": [
      "(376, 166800)\n"
     ]
    }
   ],
   "source": [
    "data = raw.get_data()\n",
    "print(data.shape)"
   ]
  },
  {
   "cell_type": "markdown",
   "id": "8bc07090",
   "metadata": {},
   "source": [
    "`Raw` objects have various methods for working with timeseries data, such as:\n",
    "- isolating specific channels - `pick()`, `drop_channels()`\n",
    "- isolating specific windows of time - `crop()`\n",
    "- filtering the data - `filter()`, `notch_filter()`\n",
    "- plotting the data - `plot()`\n",
    "- computing the power spectra of the data - `compute_psd()`\n",
    "\n",
    "We will explore some of these methods below."
   ]
  },
  {
   "cell_type": "markdown",
   "id": "050840af",
   "metadata": {},
   "source": [
    "**Exercises - manipulating `Raw` objects**\n",
    "\n",
    "We will start by selecting only a subset of channels to store in our `Raw` object, using the [`pick()`](https://mne.tools/stable/generated/mne.io.Raw.html#mne.io.Raw.pick) method.\n",
    "\n",
    "`pick()` accepts channel names, channel types, or channel indices as input, and retains only those channels that match this criteria.\n",
    "\n",
    "Below, we select only the MEG channels.\n",
    "\n",
    "*Hint:* Generally in MNE, methods will modify the object in-place to save memory. Because we want to play around with the data without modifying the original object, we will first make a copy of the `Raw` object using the `copy()` method."
   ]
  },
  {
   "cell_type": "code",
   "execution_count": 75,
   "id": "dc53d8f0",
   "metadata": {},
   "outputs": [
    {
     "name": "stdout",
     "output_type": "stream",
     "text": [
      "(306, 166800)\n"
     ]
    },
    {
     "data": {
      "text/html": [
       "<details open>\n",
       "    <summary><strong>General</strong></summary>\n",
       "    <table class=\"table table-hover table-striped table-sm table-responsive small\">\n",
       "        <tr>\n",
       "            <th>Measurement date</th>\n",
       "            \n",
       "            <td>December 03, 2002  19:01:10 GMT</td>\n",
       "            \n",
       "        </tr>\n",
       "        <tr>\n",
       "            <th>Experimenter</th>\n",
       "            \n",
       "            <td>MEG</td>\n",
       "            \n",
       "        </tr>\n",
       "        <tr>\n",
       "            <th>Participant</th>\n",
       "            \n",
       "            <td>Unknown</td>\n",
       "            \n",
       "        </tr>\n",
       "    </table>\n",
       "    </details>\n",
       "    <details open>\n",
       "        <summary><strong>Channels</strong></summary>\n",
       "        <table class=\"table table-hover table-striped table-sm table-responsive small\">\n",
       "            <tr>\n",
       "                <th>Digitized points</th>\n",
       "                \n",
       "                <td>146 points</td>\n",
       "                \n",
       "            </tr>\n",
       "            <tr>\n",
       "                <th>Good channels</th>\n",
       "                <td>203 Gradiometers, 102 Magnetometers</td>\n",
       "            </tr>\n",
       "            <tr>\n",
       "                <th>Bad channels</th>\n",
       "                <td>MEG 2443</td>\n",
       "            </tr>\n",
       "            <tr>\n",
       "                <th>EOG channels</th>\n",
       "                <td>Not available</td>\n",
       "            </tr>\n",
       "            <tr>\n",
       "                <th>ECG channels</th>\n",
       "                <td>Not available</td>\n",
       "            </tr>\n",
       "        </table>\n",
       "        </details>\n",
       "        <details open>\n",
       "            <summary><strong>Data</strong></summary>\n",
       "            <table class=\"table table-hover table-striped table-sm table-responsive small\">\n",
       "                \n",
       "                <tr>\n",
       "                    <th>Sampling frequency</th>\n",
       "                    <td>600.61 Hz</td>\n",
       "                </tr>\n",
       "                \n",
       "                \n",
       "                <tr>\n",
       "                    <th>Highpass</th>\n",
       "                    <td>0.10 Hz</td>\n",
       "                </tr>\n",
       "                \n",
       "                \n",
       "                <tr>\n",
       "                    <th>Lowpass</th>\n",
       "                    <td>172.18 Hz</td>\n",
       "                </tr>\n",
       "                \n",
       "                \n",
       "                <tr>\n",
       "                    <th>Projections</th>\n",
       "                    <td>PCA-v1 : off<br />PCA-v2 : off<br />PCA-v3 : off</td>\n",
       "                </tr>\n",
       "                \n",
       "                \n",
       "                \n",
       "            </table>\n",
       "            </details>"
      ],
      "text/plain": [
       "<Info | 21 non-empty values\n",
       " acq_pars: ACQch001 110113 ACQch002 110112 ACQch003 110111 ACQch004 110122 ...\n",
       " bads: 1 items (MEG 2443)\n",
       " ch_names: MEG 0113, MEG 0112, MEG 0111, MEG 0122, MEG 0123, MEG 0121, MEG ...\n",
       " chs: 204 Gradiometers, 102 Magnetometers\n",
       " custom_ref_applied: False\n",
       " description: acquisition (megacq) VectorView system at NMR-MGH\n",
       " dev_head_t: MEG device -> head transform\n",
       " dig: 146 items (3 Cardinal, 4 HPI, 61 EEG, 78 Extra)\n",
       " events: 1 item (list)\n",
       " experimenter: MEG\n",
       " file_id: 4 items (dict)\n",
       " highpass: 0.1 Hz\n",
       " hpi_meas: 1 item (list)\n",
       " hpi_results: 1 item (list)\n",
       " lowpass: 172.2 Hz\n",
       " meas_date: 2002-12-03 19:01:10 UTC\n",
       " meas_id: 4 items (dict)\n",
       " nchan: 306\n",
       " proj_id: 1 item (ndarray)\n",
       " proj_name: test\n",
       " projs: PCA-v1: off, PCA-v2: off, PCA-v3: off\n",
       " sfreq: 600.6 Hz\n",
       ">"
      ]
     },
     "execution_count": 75,
     "metadata": {},
     "output_type": "execute_result"
    }
   ],
   "source": [
    "# Create a copy of the data so that we can mainpulate it\n",
    "raw_copy = raw.copy()\n",
    "\n",
    "# Select the MEG channels only\n",
    "raw_copy.pick(\"meg\")\n",
    "\n",
    "# Verify that we have only MEG channels\n",
    "print(raw_copy.get_data().shape)\n",
    "raw_copy.info"
   ]
  },
  {
   "cell_type": "markdown",
   "id": "763f5cb0",
   "metadata": {},
   "source": [
    "As you can see, the new `Raw` object now has only 306 channels, corresponding to the 203 Gradiometers and 102 Magnetometers."
   ]
  },
  {
   "cell_type": "markdown",
   "id": "7b513315",
   "metadata": {},
   "source": [
    "1a) Now select only the EEG channels from the original `Raw` object, and verify that only these channels remain."
   ]
  },
  {
   "cell_type": "code",
   "execution_count": 76,
   "id": "ba1a38be",
   "metadata": {},
   "outputs": [
    {
     "name": "stdout",
     "output_type": "stream",
     "text": [
      "Removing projector <Projection | PCA-v1, active : False, n_channels : 102>\n",
      "Removing projector <Projection | PCA-v2, active : False, n_channels : 102>\n",
      "Removing projector <Projection | PCA-v3, active : False, n_channels : 102>\n"
     ]
    },
    {
     "name": "stdout",
     "output_type": "stream",
     "text": [
      "(60, 166800)\n"
     ]
    },
    {
     "data": {
      "text/html": [
       "<details open>\n",
       "    <summary><strong>General</strong></summary>\n",
       "    <table class=\"table table-hover table-striped table-sm table-responsive small\">\n",
       "        <tr>\n",
       "            <th>Measurement date</th>\n",
       "            \n",
       "            <td>December 03, 2002  19:01:10 GMT</td>\n",
       "            \n",
       "        </tr>\n",
       "        <tr>\n",
       "            <th>Experimenter</th>\n",
       "            \n",
       "            <td>MEG</td>\n",
       "            \n",
       "        </tr>\n",
       "        <tr>\n",
       "            <th>Participant</th>\n",
       "            \n",
       "            <td>Unknown</td>\n",
       "            \n",
       "        </tr>\n",
       "    </table>\n",
       "    </details>\n",
       "    <details open>\n",
       "        <summary><strong>Channels</strong></summary>\n",
       "        <table class=\"table table-hover table-striped table-sm table-responsive small\">\n",
       "            <tr>\n",
       "                <th>Digitized points</th>\n",
       "                \n",
       "                <td>146 points</td>\n",
       "                \n",
       "            </tr>\n",
       "            <tr>\n",
       "                <th>Good channels</th>\n",
       "                <td>59 EEG</td>\n",
       "            </tr>\n",
       "            <tr>\n",
       "                <th>Bad channels</th>\n",
       "                <td>EEG 053</td>\n",
       "            </tr>\n",
       "            <tr>\n",
       "                <th>EOG channels</th>\n",
       "                <td>Not available</td>\n",
       "            </tr>\n",
       "            <tr>\n",
       "                <th>ECG channels</th>\n",
       "                <td>Not available</td>\n",
       "            </tr>\n",
       "        </table>\n",
       "        </details>\n",
       "        <details open>\n",
       "            <summary><strong>Data</strong></summary>\n",
       "            <table class=\"table table-hover table-striped table-sm table-responsive small\">\n",
       "                \n",
       "                <tr>\n",
       "                    <th>Sampling frequency</th>\n",
       "                    <td>600.61 Hz</td>\n",
       "                </tr>\n",
       "                \n",
       "                \n",
       "                <tr>\n",
       "                    <th>Highpass</th>\n",
       "                    <td>0.10 Hz</td>\n",
       "                </tr>\n",
       "                \n",
       "                \n",
       "                <tr>\n",
       "                    <th>Lowpass</th>\n",
       "                    <td>172.18 Hz</td>\n",
       "                </tr>\n",
       "                \n",
       "                \n",
       "                \n",
       "                \n",
       "            </table>\n",
       "            </details>"
      ],
      "text/plain": [
       "<Info | 20 non-empty values\n",
       " acq_pars: ACQch001 110113 ACQch002 110112 ACQch003 110111 ACQch004 110122 ...\n",
       " bads: 1 items (EEG 053)\n",
       " ch_names: EEG 001, EEG 002, EEG 003, EEG 004, EEG 005, EEG 006, EEG 007, ...\n",
       " chs: 60 EEG\n",
       " custom_ref_applied: False\n",
       " description: acquisition (megacq) VectorView system at NMR-MGH\n",
       " dev_head_t: MEG device -> head transform\n",
       " dig: 146 items (3 Cardinal, 4 HPI, 61 EEG, 78 Extra)\n",
       " events: 1 item (list)\n",
       " experimenter: MEG\n",
       " file_id: 4 items (dict)\n",
       " highpass: 0.1 Hz\n",
       " hpi_meas: 1 item (list)\n",
       " hpi_results: 1 item (list)\n",
       " lowpass: 172.2 Hz\n",
       " meas_date: 2002-12-03 19:01:10 UTC\n",
       " meas_id: 4 items (dict)\n",
       " nchan: 60\n",
       " proj_id: 1 item (ndarray)\n",
       " proj_name: test\n",
       " projs: []\n",
       " sfreq: 600.6 Hz\n",
       ">"
      ]
     },
     "execution_count": 76,
     "metadata": {},
     "output_type": "execute_result"
    }
   ],
   "source": [
    "# Remember to copy the original data\n",
    "raw_copy = raw.copy()\n",
    "\n",
    "## CODE GOES HERE\n",
    "raw_copy.pick(\"eeg\")\n",
    "print(raw_copy.get_data().shape)\n",
    "raw_copy.info"
   ]
  },
  {
   "cell_type": "markdown",
   "id": "6ffc94b9",
   "metadata": {},
   "source": [
    "1b) Now select the EEG and MEG channels simultaneously, and verify that only these channels remain."
   ]
  },
  {
   "cell_type": "code",
   "execution_count": 77,
   "id": "2b7c6b0e",
   "metadata": {},
   "outputs": [
    {
     "name": "stdout",
     "output_type": "stream",
     "text": [
      "(366, 166800)\n"
     ]
    },
    {
     "data": {
      "text/html": [
       "<details open>\n",
       "    <summary><strong>General</strong></summary>\n",
       "    <table class=\"table table-hover table-striped table-sm table-responsive small\">\n",
       "        <tr>\n",
       "            <th>Measurement date</th>\n",
       "            \n",
       "            <td>December 03, 2002  19:01:10 GMT</td>\n",
       "            \n",
       "        </tr>\n",
       "        <tr>\n",
       "            <th>Experimenter</th>\n",
       "            \n",
       "            <td>MEG</td>\n",
       "            \n",
       "        </tr>\n",
       "        <tr>\n",
       "            <th>Participant</th>\n",
       "            \n",
       "            <td>Unknown</td>\n",
       "            \n",
       "        </tr>\n",
       "    </table>\n",
       "    </details>\n",
       "    <details open>\n",
       "        <summary><strong>Channels</strong></summary>\n",
       "        <table class=\"table table-hover table-striped table-sm table-responsive small\">\n",
       "            <tr>\n",
       "                <th>Digitized points</th>\n",
       "                \n",
       "                <td>146 points</td>\n",
       "                \n",
       "            </tr>\n",
       "            <tr>\n",
       "                <th>Good channels</th>\n",
       "                <td>203 Gradiometers, 102 Magnetometers, 59 EEG</td>\n",
       "            </tr>\n",
       "            <tr>\n",
       "                <th>Bad channels</th>\n",
       "                <td>MEG 2443, EEG 053</td>\n",
       "            </tr>\n",
       "            <tr>\n",
       "                <th>EOG channels</th>\n",
       "                <td>Not available</td>\n",
       "            </tr>\n",
       "            <tr>\n",
       "                <th>ECG channels</th>\n",
       "                <td>Not available</td>\n",
       "            </tr>\n",
       "        </table>\n",
       "        </details>\n",
       "        <details open>\n",
       "            <summary><strong>Data</strong></summary>\n",
       "            <table class=\"table table-hover table-striped table-sm table-responsive small\">\n",
       "                \n",
       "                <tr>\n",
       "                    <th>Sampling frequency</th>\n",
       "                    <td>600.61 Hz</td>\n",
       "                </tr>\n",
       "                \n",
       "                \n",
       "                <tr>\n",
       "                    <th>Highpass</th>\n",
       "                    <td>0.10 Hz</td>\n",
       "                </tr>\n",
       "                \n",
       "                \n",
       "                <tr>\n",
       "                    <th>Lowpass</th>\n",
       "                    <td>172.18 Hz</td>\n",
       "                </tr>\n",
       "                \n",
       "                \n",
       "                <tr>\n",
       "                    <th>Projections</th>\n",
       "                    <td>PCA-v1 : off<br />PCA-v2 : off<br />PCA-v3 : off</td>\n",
       "                </tr>\n",
       "                \n",
       "                \n",
       "                \n",
       "            </table>\n",
       "            </details>"
      ],
      "text/plain": [
       "<Info | 21 non-empty values\n",
       " acq_pars: ACQch001 110113 ACQch002 110112 ACQch003 110111 ACQch004 110122 ...\n",
       " bads: 2 items (MEG 2443, EEG 053)\n",
       " ch_names: MEG 0113, MEG 0112, MEG 0111, MEG 0122, MEG 0123, MEG 0121, MEG ...\n",
       " chs: 204 Gradiometers, 102 Magnetometers, 60 EEG\n",
       " custom_ref_applied: False\n",
       " description: acquisition (megacq) VectorView system at NMR-MGH\n",
       " dev_head_t: MEG device -> head transform\n",
       " dig: 146 items (3 Cardinal, 4 HPI, 61 EEG, 78 Extra)\n",
       " events: 1 item (list)\n",
       " experimenter: MEG\n",
       " file_id: 4 items (dict)\n",
       " highpass: 0.1 Hz\n",
       " hpi_meas: 1 item (list)\n",
       " hpi_results: 1 item (list)\n",
       " lowpass: 172.2 Hz\n",
       " meas_date: 2002-12-03 19:01:10 UTC\n",
       " meas_id: 4 items (dict)\n",
       " nchan: 366\n",
       " proj_id: 1 item (ndarray)\n",
       " proj_name: test\n",
       " projs: PCA-v1: off, PCA-v2: off, PCA-v3: off\n",
       " sfreq: 600.6 Hz\n",
       ">"
      ]
     },
     "execution_count": 77,
     "metadata": {},
     "output_type": "execute_result"
    }
   ],
   "source": [
    "# Remember to copy the original data\n",
    "raw_copy = raw.copy()\n",
    "\n",
    "## CODE GOES HERE\n",
    "raw_copy.pick([\"eeg\", \"meg\"])\n",
    "print(raw_copy.get_data().shape)\n",
    "raw_copy.info"
   ]
  },
  {
   "cell_type": "markdown",
   "id": "57ff82a2",
   "metadata": {},
   "source": [
    "1c) Now select three channels of your choice by specifying their names, and verify that only these channels remain.\n",
    "\n",
    "*Hint:* channel names are stored in the `ch_names` attribute of the `Raw` object."
   ]
  },
  {
   "cell_type": "code",
   "execution_count": 78,
   "id": "2fc3b959",
   "metadata": {},
   "outputs": [
    {
     "name": "stdout",
     "output_type": "stream",
     "text": [
      "(3, 166800)\n",
      "['MEG 0113', 'MEG 0112', 'MEG 0111']\n"
     ]
    },
    {
     "data": {
      "text/html": [
       "<details open>\n",
       "    <summary><strong>General</strong></summary>\n",
       "    <table class=\"table table-hover table-striped table-sm table-responsive small\">\n",
       "        <tr>\n",
       "            <th>Measurement date</th>\n",
       "            \n",
       "            <td>December 03, 2002  19:01:10 GMT</td>\n",
       "            \n",
       "        </tr>\n",
       "        <tr>\n",
       "            <th>Experimenter</th>\n",
       "            \n",
       "            <td>MEG</td>\n",
       "            \n",
       "        </tr>\n",
       "        <tr>\n",
       "            <th>Participant</th>\n",
       "            \n",
       "            <td>Unknown</td>\n",
       "            \n",
       "        </tr>\n",
       "    </table>\n",
       "    </details>\n",
       "    <details open>\n",
       "        <summary><strong>Channels</strong></summary>\n",
       "        <table class=\"table table-hover table-striped table-sm table-responsive small\">\n",
       "            <tr>\n",
       "                <th>Digitized points</th>\n",
       "                \n",
       "                <td>146 points</td>\n",
       "                \n",
       "            </tr>\n",
       "            <tr>\n",
       "                <th>Good channels</th>\n",
       "                <td>2 Gradiometers, 1 Magnetometers</td>\n",
       "            </tr>\n",
       "            <tr>\n",
       "                <th>Bad channels</th>\n",
       "                <td>None</td>\n",
       "            </tr>\n",
       "            <tr>\n",
       "                <th>EOG channels</th>\n",
       "                <td>Not available</td>\n",
       "            </tr>\n",
       "            <tr>\n",
       "                <th>ECG channels</th>\n",
       "                <td>Not available</td>\n",
       "            </tr>\n",
       "        </table>\n",
       "        </details>\n",
       "        <details open>\n",
       "            <summary><strong>Data</strong></summary>\n",
       "            <table class=\"table table-hover table-striped table-sm table-responsive small\">\n",
       "                \n",
       "                <tr>\n",
       "                    <th>Sampling frequency</th>\n",
       "                    <td>600.61 Hz</td>\n",
       "                </tr>\n",
       "                \n",
       "                \n",
       "                <tr>\n",
       "                    <th>Highpass</th>\n",
       "                    <td>0.10 Hz</td>\n",
       "                </tr>\n",
       "                \n",
       "                \n",
       "                <tr>\n",
       "                    <th>Lowpass</th>\n",
       "                    <td>172.18 Hz</td>\n",
       "                </tr>\n",
       "                \n",
       "                \n",
       "                <tr>\n",
       "                    <th>Projections</th>\n",
       "                    <td>PCA-v1 : off<br />PCA-v2 : off<br />PCA-v3 : off</td>\n",
       "                </tr>\n",
       "                \n",
       "                \n",
       "                \n",
       "            </table>\n",
       "            </details>"
      ],
      "text/plain": [
       "<Info | 20 non-empty values\n",
       " acq_pars: ACQch001 110113 ACQch002 110112 ACQch003 110111 ACQch004 110122 ...\n",
       " bads: []\n",
       " ch_names: MEG 0113, MEG 0112, MEG 0111\n",
       " chs: 2 Gradiometers, 1 Magnetometers\n",
       " custom_ref_applied: False\n",
       " description: acquisition (megacq) VectorView system at NMR-MGH\n",
       " dev_head_t: MEG device -> head transform\n",
       " dig: 146 items (3 Cardinal, 4 HPI, 61 EEG, 78 Extra)\n",
       " events: 1 item (list)\n",
       " experimenter: MEG\n",
       " file_id: 4 items (dict)\n",
       " highpass: 0.1 Hz\n",
       " hpi_meas: 1 item (list)\n",
       " hpi_results: 1 item (list)\n",
       " lowpass: 172.2 Hz\n",
       " meas_date: 2002-12-03 19:01:10 UTC\n",
       " meas_id: 4 items (dict)\n",
       " nchan: 3\n",
       " proj_id: 1 item (ndarray)\n",
       " proj_name: test\n",
       " projs: PCA-v1: off, PCA-v2: off, PCA-v3: off\n",
       " sfreq: 600.6 Hz\n",
       ">"
      ]
     },
     "execution_count": 78,
     "metadata": {},
     "output_type": "execute_result"
    }
   ],
   "source": [
    "raw_copy = raw.copy()\n",
    "\n",
    "## CODE GOES HERE\n",
    "raw_copy.pick(raw_copy.ch_names[:3])\n",
    "print(raw_copy.get_data().shape)\n",
    "print(raw_copy.ch_names)\n",
    "raw_copy.info"
   ]
  },
  {
   "cell_type": "markdown",
   "id": "4519d91e",
   "metadata": {},
   "source": [
    "To proceed, we will select only the EEG data from the original `Raw` object.\n",
    "\n",
    "Having isolated the EEG data, we can visualise it using the [`plot()`](https://mne.tools/stable/generated/mne.io.Raw.html#mne.io.Raw.plot) method.\n",
    "\n",
    "Navigate through the different channels using the up and down arrow keys, and navigate through the timepoints using the left and right arrow keys.<br>\n",
    "The home reduces the time window displayed, and the end key increases the time window displayed."
   ]
  },
  {
   "cell_type": "code",
   "execution_count": 79,
   "id": "e2b1a4fa",
   "metadata": {},
   "outputs": [
    {
     "name": "stdout",
     "output_type": "stream",
     "text": [
      "Removing projector <Projection | PCA-v1, active : False, n_channels : 102>\n",
      "Removing projector <Projection | PCA-v2, active : False, n_channels : 102>\n",
      "Removing projector <Projection | PCA-v3, active : False, n_channels : 102>\n"
     ]
    },
    {
     "name": "stdout",
     "output_type": "stream",
     "text": [
      "Channels marked as bad:\n",
      "['EEG 053']\n"
     ]
    }
   ],
   "source": [
    "%matplotlib qt\n",
    "\n",
    "# Select EEG data\n",
    "raw_eeg = raw.copy().pick(\"eeg\")\n",
    "\n",
    "# Plot EEG data\n",
    "raw_eeg.plot(scalings=\"auto\");"
   ]
  },
  {
   "cell_type": "markdown",
   "id": "2f29a9af",
   "metadata": {},
   "source": [
    "We can also plot the locations of the EEG sensors using the [`plot_sensors()`](https://mne.tools/stable/generated/mne.io.Raw.html#mne.io.Raw.plot_sensors) method."
   ]
  },
  {
   "cell_type": "code",
   "execution_count": 90,
   "id": "0e36e7d3",
   "metadata": {},
   "outputs": [
    {
     "data": {
      "image/png": "[encoded data removed]",
      "text/plain": [
       "<Figure size 640x640 with 1 Axes>"
      ]
     },
     "metadata": {},
     "output_type": "display_data"
    }
   ],
   "source": [
    "%matplotlib inline\n",
    "\n",
    "# Plot EEG sensors\n",
    "raw_eeg.plot_sensors(show_names=True);\n",
    "\n",
    "%matplotlib qt"
   ]
  },
  {
   "cell_type": "markdown",
   "id": "fbe0e7f4",
   "metadata": {},
   "source": [
    "If you go to the end of the recording, you will see that is has a duration of ~280 seconds.\n",
    "\n",
    "We can compute the exact time with the formula `duration (s) = number of timepoints / sampling frequency (Hz)`.\n",
    "\n",
    "The number of timepoints in a `Raw` object can be easily accessed from the dunder method `__len__()`, and the sampling frequency can be accessed from the `info` attribute under the `\"sfreq\"` key."
   ]
  },
  {
   "cell_type": "code",
   "execution_count": 28,
   "id": "b9fbd43e",
   "metadata": {},
   "outputs": [
    {
     "name": "stdout",
     "output_type": "stream",
     "text": [
      "278 seconds of data\n"
     ]
    }
   ],
   "source": [
    "print(f\"{raw_eeg.__len__() / raw_eeg.info['sfreq'] :.0f} seconds of data\")"
   ]
  },
  {
   "cell_type": "markdown",
   "id": "c049907a",
   "metadata": {},
   "source": [
    "Just like we were able to select only a specific set of channels, we can also select only a specific window of time using the [`crop()`](https://mne.tools/stable/generated/mne.io.Raw.html#mne.io.Raw.crop) method.\n",
    "\n",
    "Below, we omit the first 10 seconds of the recording (as for `pick()`, this modifies the object in-place)."
   ]
  },
  {
   "cell_type": "code",
   "execution_count": 40,
   "id": "c1eb3025",
   "metadata": {},
   "outputs": [
    {
     "data": {
      "text/html": [
       "<details open>\n",
       "    <summary><strong>General</strong></summary>\n",
       "    <table class=\"table table-hover table-striped table-sm table-responsive small\">\n",
       "        <tr>\n",
       "            <th>Measurement date</th>\n",
       "            \n",
       "            <td>December 03, 2002  19:01:10 GMT</td>\n",
       "            \n",
       "        </tr>\n",
       "        <tr>\n",
       "            <th>Experimenter</th>\n",
       "            \n",
       "            <td>MEG</td>\n",
       "            \n",
       "        </tr>\n",
       "        <tr>\n",
       "            <th>Participant</th>\n",
       "            \n",
       "            <td>Unknown</td>\n",
       "            \n",
       "        </tr>\n",
       "    </table>\n",
       "    </details>\n",
       "    <details open>\n",
       "        <summary><strong>Channels</strong></summary>\n",
       "        <table class=\"table table-hover table-striped table-sm table-responsive small\">\n",
       "            <tr>\n",
       "                <th>Digitized points</th>\n",
       "                \n",
       "                <td>146 points</td>\n",
       "                \n",
       "            </tr>\n",
       "            <tr>\n",
       "                <th>Good channels</th>\n",
       "                <td>59 EEG</td>\n",
       "            </tr>\n",
       "            <tr>\n",
       "                <th>Bad channels</th>\n",
       "                <td>EEG 053</td>\n",
       "            </tr>\n",
       "            <tr>\n",
       "                <th>EOG channels</th>\n",
       "                <td>Not available</td>\n",
       "            </tr>\n",
       "            <tr>\n",
       "                <th>ECG channels</th>\n",
       "                <td>Not available</td>\n",
       "            </tr>\n",
       "        </table>\n",
       "        </details>\n",
       "        <details open>\n",
       "            <summary><strong>Data</strong></summary>\n",
       "            <table class=\"table table-hover table-striped table-sm table-responsive small\">\n",
       "                \n",
       "                <tr>\n",
       "                    <th>Sampling frequency</th>\n",
       "                    <td>600.61 Hz</td>\n",
       "                </tr>\n",
       "                \n",
       "                \n",
       "                <tr>\n",
       "                    <th>Highpass</th>\n",
       "                    <td>0.10 Hz</td>\n",
       "                </tr>\n",
       "                \n",
       "                \n",
       "                <tr>\n",
       "                    <th>Lowpass</th>\n",
       "                    <td>172.18 Hz</td>\n",
       "                </tr>\n",
       "                \n",
       "                \n",
       "                \n",
       "                <tr>\n",
       "                    <th>Filenames</th>\n",
       "                    <td>sample_audvis_raw.fif</td>\n",
       "                </tr>\n",
       "                \n",
       "                \n",
       "                <tr>\n",
       "                    <th>Duration</th>\n",
       "                    <td>00:04:28 (HH:MM:SS)</td>\n",
       "                </tr>\n",
       "                \n",
       "            </table>\n",
       "            </details>"
      ],
      "text/plain": [
       "<Raw | sample_audvis_raw.fif, 60 x 160794 (267.7 s), ~2.9 MB, data not loaded>"
      ]
     },
     "execution_count": 40,
     "metadata": {},
     "output_type": "execute_result"
    }
   ],
   "source": [
    "raw_eeg_copy = raw_eeg.copy()\n",
    "\n",
    "# Units of time should be in seconds\n",
    "raw_eeg_copy.crop(tmin=10, tmax=None)"
   ]
  },
  {
   "cell_type": "markdown",
   "id": "e2ded8c3",
   "metadata": {},
   "source": [
    "1d) Verify that the duration of the recording has been reduced by 10 seconds by plotting the data or using the number of timepoints."
   ]
  },
  {
   "cell_type": "code",
   "execution_count": 41,
   "id": "eea81039",
   "metadata": {},
   "outputs": [
    {
     "name": "stdout",
     "output_type": "stream",
     "text": [
      "268 seconds of data\n"
     ]
    }
   ],
   "source": [
    "## CODE GOES HERE\n",
    "print(f\"{raw_eeg_copy.__len__() / raw_eeg_copy.info['sfreq'] :.0f} seconds of data\")"
   ]
  },
  {
   "cell_type": "markdown",
   "id": "a6ffd302",
   "metadata": {},
   "source": [
    "1e) Now omit the last 10 seconds of the same object, and verify that the duration of the recording has been reduced by a further 10 seconds."
   ]
  },
  {
   "cell_type": "code",
   "execution_count": 42,
   "id": "71f34b95",
   "metadata": {},
   "outputs": [
    {
     "name": "stdout",
     "output_type": "stream",
     "text": [
      "258 seconds of data\n"
     ]
    }
   ],
   "source": [
    "## CODE GOES HERE\n",
    "duration = raw_eeg_copy.__len__() / raw_eeg_copy.info['sfreq']\n",
    "\n",
    "raw_eeg_copy.crop(tmin=0, tmax=duration - 10)\n",
    "\n",
    "print(f\"{raw_eeg_copy.__len__() / raw_eeg_copy.info['sfreq'] :.0f} seconds of data\")"
   ]
  },
  {
   "cell_type": "markdown",
   "id": "9d565cad",
   "metadata": {},
   "source": [
    "1f) Now select only the time between 30 and 60 seconds, and verify that the duration of the recording is now 30 seconds."
   ]
  },
  {
   "cell_type": "code",
   "execution_count": 43,
   "id": "7abe7d8c",
   "metadata": {},
   "outputs": [
    {
     "name": "stdout",
     "output_type": "stream",
     "text": [
      "30 seconds of data\n"
     ]
    },
    {
     "name": "stdout",
     "output_type": "stream",
     "text": [
      "Channels marked as bad:\n",
      "['EEG 053']\n"
     ]
    }
   ],
   "source": [
    "## CODE GOES HERE\n",
    "raw_eeg_copy.crop(tmin=30, tmax=60)\n",
    "\n",
    "print(f\"{raw_eeg_copy.__len__() / raw_eeg_copy.info['sfreq'] :.0f} seconds of data\")\n",
    "\n",
    "raw_eeg_copy.plot();"
   ]
  },
  {
   "cell_type": "markdown",
   "id": "d66e14b8",
   "metadata": {},
   "source": [
    "With this brief overview of `Raw` objects, we have seen how timeseries data can loaded and manipulated in MNE.\n",
    "\n",
    "Generally, timeseries data is loaded from disk using one of the many `mne.read_raw_xxx()` functions tailored to specific data formats, like we have done above: https://mne.tools/stable/api/reading_raw_data.html.<br>\n",
    "(see also the [MNE-BIDS](https://mne.tools/mne-bids/stable/index.html) package for loading data in the BIDS format)\n",
    "\n",
    "However, it is sometimes also useful to create `Raw` objects from arrays directly, which we will explore below."
   ]
  },
  {
   "cell_type": "markdown",
   "id": "6db6258f",
   "metadata": {},
   "source": [
    "### Part 2 - Creating `Raw` objects from arrays\n",
    "\n",
    "This requires first having some data to store!\n",
    "\n",
    "Below we randomly generate some data consisting of 3 channels and 1,000 timepoints. Remember, MNE expects timeseries data to have shape `(channels, times)`."
   ]
  },
  {
   "cell_type": "code",
   "execution_count": 45,
   "id": "0ba02d9e",
   "metadata": {},
   "outputs": [],
   "source": [
    "n_channels = 3\n",
    "n_times = 1000  # samples\n",
    "\n",
    "np.random.seed(44)  # set seed for consistency\n",
    "\n",
    "data = np.random.randn(n_channels, n_times)"
   ]
  },
  {
   "cell_type": "markdown",
   "id": "cddeb137",
   "metadata": {},
   "source": [
    "If we want to store this data in a `Raw` object, we need to also specify the metadata, so that MNE can keep track of what the data represents.\n",
    "\n",
    "This information is stored as an [`mne.Info`](https://mne.tools/stable/generated/mne.Info.html) object.<br>\n",
    "We instantiate `Info` objects using the [`mne.create_info()`](https://mne.tools/stable/generated/mne.create_info.html) function.\n",
    "\n",
    "For this, we need to specify:\n",
    "- the names of the channels\n",
    "- the types of the channels\n",
    "- the sampling frequency"
   ]
  },
  {
   "cell_type": "code",
   "execution_count": 50,
   "id": "b2faff92",
   "metadata": {},
   "outputs": [
    {
     "name": "stdout",
     "output_type": "stream",
     "text": [
      "Channel names: ['CH_1', 'CH_2', 'CH_3']\n"
     ]
    },
    {
     "data": {
      "text/html": [
       "<details open>\n",
       "    <summary><strong>General</strong></summary>\n",
       "    <table class=\"table table-hover table-striped table-sm table-responsive small\">\n",
       "        <tr>\n",
       "            <th>Measurement date</th>\n",
       "            \n",
       "            <td>Unknown</td>\n",
       "            \n",
       "        </tr>\n",
       "        <tr>\n",
       "            <th>Experimenter</th>\n",
       "            \n",
       "            <td>Unknown</td>\n",
       "            \n",
       "        </tr>\n",
       "        <tr>\n",
       "            <th>Participant</th>\n",
       "            \n",
       "            <td>Unknown</td>\n",
       "            \n",
       "        </tr>\n",
       "    </table>\n",
       "    </details>\n",
       "    <details open>\n",
       "        <summary><strong>Channels</strong></summary>\n",
       "        <table class=\"table table-hover table-striped table-sm table-responsive small\">\n",
       "            <tr>\n",
       "                <th>Digitized points</th>\n",
       "                \n",
       "                <td>Not available</td>\n",
       "                \n",
       "            </tr>\n",
       "            <tr>\n",
       "                <th>Good channels</th>\n",
       "                <td>3 EEG</td>\n",
       "            </tr>\n",
       "            <tr>\n",
       "                <th>Bad channels</th>\n",
       "                <td>None</td>\n",
       "            </tr>\n",
       "            <tr>\n",
       "                <th>EOG channels</th>\n",
       "                <td>Not available</td>\n",
       "            </tr>\n",
       "            <tr>\n",
       "                <th>ECG channels</th>\n",
       "                <td>Not available</td>\n",
       "            </tr>\n",
       "        </table>\n",
       "        </details>\n",
       "        <details open>\n",
       "            <summary><strong>Data</strong></summary>\n",
       "            <table class=\"table table-hover table-striped table-sm table-responsive small\">\n",
       "                \n",
       "                <tr>\n",
       "                    <th>Sampling frequency</th>\n",
       "                    <td>100.00 Hz</td>\n",
       "                </tr>\n",
       "                \n",
       "                \n",
       "                <tr>\n",
       "                    <th>Highpass</th>\n",
       "                    <td>0.00 Hz</td>\n",
       "                </tr>\n",
       "                \n",
       "                \n",
       "                <tr>\n",
       "                    <th>Lowpass</th>\n",
       "                    <td>50.00 Hz</td>\n",
       "                </tr>\n",
       "                \n",
       "                \n",
       "                \n",
       "                \n",
       "            </table>\n",
       "            </details>"
      ],
      "text/plain": [
       "<Info | 7 non-empty values\n",
       " bads: []\n",
       " ch_names: CH_1, CH_2, CH_3\n",
       " chs: 3 EEG\n",
       " custom_ref_applied: False\n",
       " highpass: 0.0 Hz\n",
       " lowpass: 50.0 Hz\n",
       " meas_date: unspecified\n",
       " nchan: 3\n",
       " projs: []\n",
       " sfreq: 100.0 Hz\n",
       ">"
      ]
     },
     "execution_count": 50,
     "metadata": {},
     "output_type": "execute_result"
    }
   ],
   "source": [
    "info = mne.create_info(ch_names=[\"CH_1\", \"CH_2\", \"CH_3\"], ch_types=\"eeg\", sfreq=100)\n",
    "\n",
    "print(f\"Channel names: {info[\"ch_names\"]}\")\n",
    "info"
   ]
  },
  {
   "cell_type": "markdown",
   "id": "2129fa5e",
   "metadata": {},
   "source": [
    "As you can see, we have created an `Info` object for 3 EEG channels. We arbitrarily set the sampling frequency to 100 Hz."
   ]
  },
  {
   "cell_type": "markdown",
   "id": "c6a92807",
   "metadata": {},
   "source": [
    "**Exercises - creating `Raw` from arrays**\n",
    "\n",
    "We can also specify the types of each channel separately using the `ch_types` argument.\n",
    "\n",
    "2a) Create an `Info` object for 3 EEG channels, specifying the type of each channel separately."
   ]
  },
  {
   "cell_type": "code",
   "execution_count": 56,
   "id": "44e87423",
   "metadata": {},
   "outputs": [
    {
     "data": {
      "text/html": [
       "<details open>\n",
       "    <summary><strong>General</strong></summary>\n",
       "    <table class=\"table table-hover table-striped table-sm table-responsive small\">\n",
       "        <tr>\n",
       "            <th>Measurement date</th>\n",
       "            \n",
       "            <td>Unknown</td>\n",
       "            \n",
       "        </tr>\n",
       "        <tr>\n",
       "            <th>Experimenter</th>\n",
       "            \n",
       "            <td>Unknown</td>\n",
       "            \n",
       "        </tr>\n",
       "        <tr>\n",
       "            <th>Participant</th>\n",
       "            \n",
       "            <td>Unknown</td>\n",
       "            \n",
       "        </tr>\n",
       "    </table>\n",
       "    </details>\n",
       "    <details open>\n",
       "        <summary><strong>Channels</strong></summary>\n",
       "        <table class=\"table table-hover table-striped table-sm table-responsive small\">\n",
       "            <tr>\n",
       "                <th>Digitized points</th>\n",
       "                \n",
       "                <td>Not available</td>\n",
       "                \n",
       "            </tr>\n",
       "            <tr>\n",
       "                <th>Good channels</th>\n",
       "                <td>3 EEG</td>\n",
       "            </tr>\n",
       "            <tr>\n",
       "                <th>Bad channels</th>\n",
       "                <td>None</td>\n",
       "            </tr>\n",
       "            <tr>\n",
       "                <th>EOG channels</th>\n",
       "                <td>Not available</td>\n",
       "            </tr>\n",
       "            <tr>\n",
       "                <th>ECG channels</th>\n",
       "                <td>Not available</td>\n",
       "            </tr>\n",
       "        </table>\n",
       "        </details>\n",
       "        <details open>\n",
       "            <summary><strong>Data</strong></summary>\n",
       "            <table class=\"table table-hover table-striped table-sm table-responsive small\">\n",
       "                \n",
       "                <tr>\n",
       "                    <th>Sampling frequency</th>\n",
       "                    <td>100.00 Hz</td>\n",
       "                </tr>\n",
       "                \n",
       "                \n",
       "                <tr>\n",
       "                    <th>Highpass</th>\n",
       "                    <td>0.00 Hz</td>\n",
       "                </tr>\n",
       "                \n",
       "                \n",
       "                <tr>\n",
       "                    <th>Lowpass</th>\n",
       "                    <td>50.00 Hz</td>\n",
       "                </tr>\n",
       "                \n",
       "                \n",
       "                \n",
       "                \n",
       "            </table>\n",
       "            </details>"
      ],
      "text/plain": [
       "<Info | 7 non-empty values\n",
       " bads: []\n",
       " ch_names: CH_1, CH_2, CH_3\n",
       " chs: 3 EEG\n",
       " custom_ref_applied: False\n",
       " highpass: 0.0 Hz\n",
       " lowpass: 50.0 Hz\n",
       " meas_date: unspecified\n",
       " nchan: 3\n",
       " projs: []\n",
       " sfreq: 100.0 Hz\n",
       ">"
      ]
     },
     "execution_count": 56,
     "metadata": {},
     "output_type": "execute_result"
    }
   ],
   "source": [
    "## CODE GOES HERE\n",
    "info = mne.create_info(ch_names=[\"CH_1\", \"CH_2\", \"CH_3\"], ch_types=[\"eeg\", \"eeg\", \"eeg\"], sfreq=100)\n",
    "\n",
    "info"
   ]
  },
  {
   "cell_type": "markdown",
   "id": "a0cf65af",
   "metadata": {},
   "source": [
    "2b) Create an `Info` object for 3 channels, where the first is EEG, the second a gradiometer, and the third a magnetometer."
   ]
  },
  {
   "cell_type": "code",
   "execution_count": 57,
   "id": "7a91f535",
   "metadata": {},
   "outputs": [
    {
     "data": {
      "text/html": [
       "<details open>\n",
       "    <summary><strong>General</strong></summary>\n",
       "    <table class=\"table table-hover table-striped table-sm table-responsive small\">\n",
       "        <tr>\n",
       "            <th>Measurement date</th>\n",
       "            \n",
       "            <td>Unknown</td>\n",
       "            \n",
       "        </tr>\n",
       "        <tr>\n",
       "            <th>Experimenter</th>\n",
       "            \n",
       "            <td>Unknown</td>\n",
       "            \n",
       "        </tr>\n",
       "        <tr>\n",
       "            <th>Participant</th>\n",
       "            \n",
       "            <td>Unknown</td>\n",
       "            \n",
       "        </tr>\n",
       "    </table>\n",
       "    </details>\n",
       "    <details open>\n",
       "        <summary><strong>Channels</strong></summary>\n",
       "        <table class=\"table table-hover table-striped table-sm table-responsive small\">\n",
       "            <tr>\n",
       "                <th>Digitized points</th>\n",
       "                \n",
       "                <td>Not available</td>\n",
       "                \n",
       "            </tr>\n",
       "            <tr>\n",
       "                <th>Good channels</th>\n",
       "                <td>1 EEG, 1 Gradiometers, 1 Magnetometers</td>\n",
       "            </tr>\n",
       "            <tr>\n",
       "                <th>Bad channels</th>\n",
       "                <td>None</td>\n",
       "            </tr>\n",
       "            <tr>\n",
       "                <th>EOG channels</th>\n",
       "                <td>Not available</td>\n",
       "            </tr>\n",
       "            <tr>\n",
       "                <th>ECG channels</th>\n",
       "                <td>Not available</td>\n",
       "            </tr>\n",
       "        </table>\n",
       "        </details>\n",
       "        <details open>\n",
       "            <summary><strong>Data</strong></summary>\n",
       "            <table class=\"table table-hover table-striped table-sm table-responsive small\">\n",
       "                \n",
       "                <tr>\n",
       "                    <th>Sampling frequency</th>\n",
       "                    <td>100.00 Hz</td>\n",
       "                </tr>\n",
       "                \n",
       "                \n",
       "                <tr>\n",
       "                    <th>Highpass</th>\n",
       "                    <td>0.00 Hz</td>\n",
       "                </tr>\n",
       "                \n",
       "                \n",
       "                <tr>\n",
       "                    <th>Lowpass</th>\n",
       "                    <td>50.00 Hz</td>\n",
       "                </tr>\n",
       "                \n",
       "                \n",
       "                \n",
       "                \n",
       "            </table>\n",
       "            </details>"
      ],
      "text/plain": [
       "<Info | 7 non-empty values\n",
       " bads: []\n",
       " ch_names: CH_1, CH_2, CH_3\n",
       " chs: 1 EEG, 1 Gradiometers, 1 Magnetometers\n",
       " custom_ref_applied: False\n",
       " highpass: 0.0 Hz\n",
       " lowpass: 50.0 Hz\n",
       " meas_date: unspecified\n",
       " nchan: 3\n",
       " projs: []\n",
       " sfreq: 100.0 Hz\n",
       ">"
      ]
     },
     "execution_count": 57,
     "metadata": {},
     "output_type": "execute_result"
    }
   ],
   "source": [
    "## CODE GOES HERE\n",
    "info = mne.create_info(ch_names=[\"CH_1\", \"CH_2\", \"CH_3\"], ch_types=[\"eeg\", \"grad\", \"mag\"], sfreq=100)\n",
    "\n",
    "info"
   ]
  },
  {
   "cell_type": "markdown",
   "id": "ee132d5e",
   "metadata": {},
   "source": [
    "As you may have noticed, specific bits of information can be accessed from the `Info` object in the same way you would access information from a dictionary.\n",
    "\n",
    "2c) Get the sampling frequency from the `Info` object."
   ]
  },
  {
   "cell_type": "code",
   "execution_count": 65,
   "id": "360aa365",
   "metadata": {},
   "outputs": [
    {
     "data": {
      "text/plain": [
       "100.0"
      ]
     },
     "execution_count": 65,
     "metadata": {},
     "output_type": "execute_result"
    }
   ],
   "source": [
    "## CODE GOES HERE\n",
    "info[\"sfreq\"]"
   ]
  },
  {
   "cell_type": "markdown",
   "id": "e3880447",
   "metadata": {},
   "source": [
    "2d) Get the channel names from the `Info` object."
   ]
  },
  {
   "cell_type": "code",
   "execution_count": 66,
   "id": "ea627cb5",
   "metadata": {},
   "outputs": [
    {
     "data": {
      "text/plain": [
       "['CH_1', 'CH_2', 'CH_3']"
      ]
     },
     "execution_count": 66,
     "metadata": {},
     "output_type": "execute_result"
    }
   ],
   "source": [
    "## CODE GOES HERE\n",
    "info[\"ch_names\"]"
   ]
  },
  {
   "cell_type": "markdown",
   "id": "ba1f1300",
   "metadata": {},
   "source": [
    "Using an info object where all 3 channels are EEG, we can now create a `Raw` object.\n",
    "\n",
    "When doing so from an array directly, we have to use the [`mne.io.RawArray()`](https://mne.tools/stable/generated/mne.io.RawArray.html) class."
   ]
  },
  {
   "cell_type": "code",
   "execution_count": 63,
   "id": "81e53afb",
   "metadata": {},
   "outputs": [
    {
     "name": "stdout",
     "output_type": "stream",
     "text": [
      "Creating RawArray with float64 data, n_channels=3, n_times=1000\n",
      "    Range : 0 ... 999 =      0.000 ...     9.990 secs\n",
      "Ready.\n"
     ]
    },
    {
     "data": {
      "text/html": [
       "<details open>\n",
       "    <summary><strong>General</strong></summary>\n",
       "    <table class=\"table table-hover table-striped table-sm table-responsive small\">\n",
       "        <tr>\n",
       "            <th>Measurement date</th>\n",
       "            \n",
       "            <td>Unknown</td>\n",
       "            \n",
       "        </tr>\n",
       "        <tr>\n",
       "            <th>Experimenter</th>\n",
       "            \n",
       "            <td>Unknown</td>\n",
       "            \n",
       "        </tr>\n",
       "        <tr>\n",
       "            <th>Participant</th>\n",
       "            \n",
       "            <td>Unknown</td>\n",
       "            \n",
       "        </tr>\n",
       "    </table>\n",
       "    </details>\n",
       "    <details open>\n",
       "        <summary><strong>Channels</strong></summary>\n",
       "        <table class=\"table table-hover table-striped table-sm table-responsive small\">\n",
       "            <tr>\n",
       "                <th>Digitized points</th>\n",
       "                \n",
       "                <td>Not available</td>\n",
       "                \n",
       "            </tr>\n",
       "            <tr>\n",
       "                <th>Good channels</th>\n",
       "                <td>3 EEG</td>\n",
       "            </tr>\n",
       "            <tr>\n",
       "                <th>Bad channels</th>\n",
       "                <td>None</td>\n",
       "            </tr>\n",
       "            <tr>\n",
       "                <th>EOG channels</th>\n",
       "                <td>Not available</td>\n",
       "            </tr>\n",
       "            <tr>\n",
       "                <th>ECG channels</th>\n",
       "                <td>Not available</td>\n",
       "            </tr>\n",
       "        </table>\n",
       "        </details>\n",
       "        <details open>\n",
       "            <summary><strong>Data</strong></summary>\n",
       "            <table class=\"table table-hover table-striped table-sm table-responsive small\">\n",
       "                \n",
       "                <tr>\n",
       "                    <th>Sampling frequency</th>\n",
       "                    <td>100.00 Hz</td>\n",
       "                </tr>\n",
       "                \n",
       "                \n",
       "                <tr>\n",
       "                    <th>Highpass</th>\n",
       "                    <td>0.00 Hz</td>\n",
       "                </tr>\n",
       "                \n",
       "                \n",
       "                <tr>\n",
       "                    <th>Lowpass</th>\n",
       "                    <td>50.00 Hz</td>\n",
       "                </tr>\n",
       "                \n",
       "                \n",
       "                \n",
       "                \n",
       "            </table>\n",
       "            </details>"
      ],
      "text/plain": [
       "<Info | 7 non-empty values\n",
       " bads: []\n",
       " ch_names: CH_1, CH_2, CH_3\n",
       " chs: 3 EEG\n",
       " custom_ref_applied: False\n",
       " highpass: 0.0 Hz\n",
       " lowpass: 50.0 Hz\n",
       " meas_date: unspecified\n",
       " nchan: 3\n",
       " projs: []\n",
       " sfreq: 100.0 Hz\n",
       ">"
      ]
     },
     "execution_count": 63,
     "metadata": {},
     "output_type": "execute_result"
    }
   ],
   "source": [
    "info = mne.create_info(ch_names=[\"CH_1\", \"CH_2\", \"CH_3\"], ch_types=\"eeg\", sfreq=100)\n",
    "\n",
    "raw = mne.io.RawArray(data=data, info=info)\n",
    "\n",
    "raw.info"
   ]
  },
  {
   "cell_type": "markdown",
   "id": "34f7bdc6",
   "metadata": {},
   "source": [
    "Although the `RawArray` object is of a different class to the `Raw` object we were working with before, we can still use the same methods.\n",
    "\n",
    "For example, here we again use `plot()` to visualise the data."
   ]
  },
  {
   "cell_type": "code",
   "execution_count": 64,
   "id": "7c390f91",
   "metadata": {},
   "outputs": [
    {
     "name": "stdout",
     "output_type": "stream",
     "text": [
      "Channels marked as bad:\n",
      "none\n"
     ]
    }
   ],
   "source": [
    "raw.plot(scalings=\"auto\");"
   ]
  },
  {
   "cell_type": "markdown",
   "id": "dc7a7a28",
   "metadata": {},
   "source": [
    "The `Info` object we created is now stored under the `info` attribute of the `Raw` object.\n",
    "\n",
    "2e) Get the sampling frequency from `info` attribute of the `Raw` object."
   ]
  },
  {
   "cell_type": "code",
   "execution_count": 67,
   "id": "57261fa1",
   "metadata": {},
   "outputs": [
    {
     "data": {
      "text/plain": [
       "100.0"
      ]
     },
     "execution_count": 67,
     "metadata": {},
     "output_type": "execute_result"
    }
   ],
   "source": [
    "## CODE GOES HERE\n",
    "raw.info[\"sfreq\"]"
   ]
  },
  {
   "cell_type": "markdown",
   "id": "48ba0a80",
   "metadata": {},
   "source": [
    "2f) Get the channel names from the `info` attribute of the `Raw` object."
   ]
  },
  {
   "cell_type": "code",
   "execution_count": 68,
   "id": "c1aaeaad",
   "metadata": {},
   "outputs": [
    {
     "data": {
      "text/plain": [
       "['CH_1', 'CH_2', 'CH_3']"
      ]
     },
     "execution_count": 68,
     "metadata": {},
     "output_type": "execute_result"
    }
   ],
   "source": [
    "## CODE GOES HERE\n",
    "raw.info[\"ch_names\"]"
   ]
  },
  {
   "cell_type": "markdown",
   "id": "aa1dc34a",
   "metadata": {},
   "source": [
    "### Part 3 - Epoching timeseries data\n",
    "\n",
    "For many analyses, it is useful to divide the timeseries data into discrete chunks of time, called epochs.\n",
    "\n",
    "Epochs can take the form of individuals trials (e.g. isolating data around a given stimulus or behaviour), or divide continuous resting-state data into discrete chunks.\n",
    "\n",
    "Epochs are stored in MNE as [`mne.Epochs`](https://mne.tools/stable/generated/mne.Epochs.html) objects.\n",
    "\n",
    "Here, we will reload the example dataset, isolating the EEG data and stimulus channels."
   ]
  },
  {
   "cell_type": "code",
   "execution_count": 106,
   "id": "96f4425a",
   "metadata": {},
   "outputs": [
    {
     "data": {
      "text/html": [
       "<details open>\n",
       "    <summary><strong>General</strong></summary>\n",
       "    <table class=\"table table-hover table-striped table-sm table-responsive small\">\n",
       "        <tr>\n",
       "            <th>Measurement date</th>\n",
       "            \n",
       "            <td>December 03, 2002  19:01:10 GMT</td>\n",
       "            \n",
       "        </tr>\n",
       "        <tr>\n",
       "            <th>Experimenter</th>\n",
       "            \n",
       "            <td>MEG</td>\n",
       "            \n",
       "        </tr>\n",
       "        <tr>\n",
       "            <th>Participant</th>\n",
       "            \n",
       "            <td>Unknown</td>\n",
       "            \n",
       "        </tr>\n",
       "    </table>\n",
       "    </details>\n",
       "    <details open>\n",
       "        <summary><strong>Channels</strong></summary>\n",
       "        <table class=\"table table-hover table-striped table-sm table-responsive small\">\n",
       "            <tr>\n",
       "                <th>Digitized points</th>\n",
       "                \n",
       "                <td>146 points</td>\n",
       "                \n",
       "            </tr>\n",
       "            <tr>\n",
       "                <th>Good channels</th>\n",
       "                <td>9 Stimulus, 59 EEG</td>\n",
       "            </tr>\n",
       "            <tr>\n",
       "                <th>Bad channels</th>\n",
       "                <td>EEG 053</td>\n",
       "            </tr>\n",
       "            <tr>\n",
       "                <th>EOG channels</th>\n",
       "                <td>Not available</td>\n",
       "            </tr>\n",
       "            <tr>\n",
       "                <th>ECG channels</th>\n",
       "                <td>Not available</td>\n",
       "            </tr>\n",
       "        </table>\n",
       "        </details>\n",
       "        <details open>\n",
       "            <summary><strong>Data</strong></summary>\n",
       "            <table class=\"table table-hover table-striped table-sm table-responsive small\">\n",
       "                \n",
       "                <tr>\n",
       "                    <th>Sampling frequency</th>\n",
       "                    <td>600.61 Hz</td>\n",
       "                </tr>\n",
       "                \n",
       "                \n",
       "                <tr>\n",
       "                    <th>Highpass</th>\n",
       "                    <td>0.10 Hz</td>\n",
       "                </tr>\n",
       "                \n",
       "                \n",
       "                <tr>\n",
       "                    <th>Lowpass</th>\n",
       "                    <td>172.18 Hz</td>\n",
       "                </tr>\n",
       "                \n",
       "                \n",
       "                \n",
       "                \n",
       "            </table>\n",
       "            </details>"
      ],
      "text/plain": [
       "<Info | 20 non-empty values\n",
       " acq_pars: ACQch001 110113 ACQch002 110112 ACQch003 110111 ACQch004 110122 ...\n",
       " bads: 1 items (EEG 053)\n",
       " ch_names: STI 001, STI 002, STI 003, STI 004, STI 005, STI 006, STI 014, ...\n",
       " chs: 9 Stimulus, 60 EEG\n",
       " custom_ref_applied: False\n",
       " description: acquisition (megacq) VectorView system at NMR-MGH\n",
       " dev_head_t: MEG device -> head transform\n",
       " dig: 146 items (3 Cardinal, 4 HPI, 61 EEG, 78 Extra)\n",
       " events: 1 item (list)\n",
       " experimenter: MEG\n",
       " file_id: 4 items (dict)\n",
       " highpass: 0.1 Hz\n",
       " hpi_meas: 1 item (list)\n",
       " hpi_results: 1 item (list)\n",
       " lowpass: 172.2 Hz\n",
       " meas_date: 2002-12-03 19:01:10 UTC\n",
       " meas_id: 4 items (dict)\n",
       " nchan: 69\n",
       " proj_id: 1 item (ndarray)\n",
       " proj_name: test\n",
       " projs: []\n",
       " sfreq: 600.6 Hz\n",
       ">"
      ]
     },
     "execution_count": 106,
     "metadata": {},
     "output_type": "execute_result"
    }
   ],
   "source": [
    "raw = mne.io.read_raw_fif(os.path.join(sample_data_folder, \"MEG\", \"sample\", \"sample_audvis_raw.fif\"))\n",
    "raw.pick([\"eeg\", \"stim\"])\n",
    "raw.info"
   ]
  },
  {
   "cell_type": "markdown",
   "id": "60f0dfc7",
   "metadata": {},
   "source": [
    "Stimulus channels contain information about e.g. when stimuli were presented to subjects, when subjects performed an action, etc...\n",
    "\n",
    "We can use the `plot()` method to visualise how stimulus data is stored in the `Raw` object."
   ]
  },
  {
   "cell_type": "code",
   "execution_count": 108,
   "id": "704fbe44",
   "metadata": {},
   "outputs": [],
   "source": [
    "raw.copy().pick(\"stim\").plot();"
   ]
  },
  {
   "cell_type": "markdown",
   "id": "e5c6252f",
   "metadata": {},
   "source": [
    "The `mne.find_events()` function can be used to convert this information into discrete timepoints based on changes in the signal.\n",
    "\n",
    "Events are stored as an array of shape `(events, 3)`, where:\n",
    "- the first column is the timepoint of the event\n",
    "- the second column is the previous type of the event \n",
    "- the third column is the new type of the event\n",
    "\n",
    "An event ID of `0` corresponds to the absence of an event, and event IDs > `0` are stimuli/responses."
   ]
  },
  {
   "cell_type": "code",
   "execution_count": 118,
   "id": "5fd3018a",
   "metadata": {},
   "outputs": [
    {
     "data": {
      "text/plain": [
       "array([[27977,     0,     2],\n",
       "       [28345,     0,     3],\n",
       "       [28771,     0,     1],\n",
       "       [29219,     0,     4],\n",
       "       [29652,     0,     2]], dtype=int64)"
      ]
     },
     "execution_count": 118,
     "metadata": {},
     "output_type": "execute_result"
    }
   ],
   "source": [
    "# Find the events from a given stimulus channel\n",
    "events = mne.find_events(raw, stim_channel=\"STI 014\")\n",
    "\n",
    "# Print a subset of events\n",
    "events[:5]"
   ]
  },
  {
   "cell_type": "markdown",
   "id": "731a5ada",
   "metadata": {},
   "source": [
    "Using these events, we can now create an `Epochs` object.\n",
    "\n",
    "If we already have a `Raw` object, this is simply a case of passing the `Raw` object and the events array to the `Epochs` class.\n",
    "\n",
    "Here, we create epochs for all events with an ID > `0`, taking the data from 1 second before to 1 second after each event using the `tmin` and `tmax` arguments."
   ]
  },
  {
   "cell_type": "code",
   "execution_count": 126,
   "id": "575fd461",
   "metadata": {},
   "outputs": [
    {
     "data": {
      "text/html": [
       "<table class=\"table table-hover table-striped table-sm table-responsive small\">\n",
       "    <tr>\n",
       "        <th>Number of events</th>\n",
       "        <td>320</td>\n",
       "    </tr>\n",
       "    <tr>\n",
       "        <th>Events</th>\n",
       "        \n",
       "        <td>1: 72<br/>2: 73<br/>3: 73<br/>32: 16<br/>4: 71<br/>5: 15</td>\n",
       "        \n",
       "    </tr>\n",
       "    <tr>\n",
       "        <th>Time range</th>\n",
       "        <td>-1.001 – 1.001 s</td>\n",
       "    </tr>\n",
       "    <tr>\n",
       "        <th>Baseline</th>\n",
       "        <td>-1.001 – 0.000 s</td>\n",
       "    </tr>\n",
       "</table>"
      ],
      "text/plain": [
       "<Epochs |  320 events (good & bad), -1.00064 – 1.00064 s, baseline -1.00064 – 0 s, ~2.9 MB, data not loaded,\n",
       " '1': 72\n",
       " '2': 73\n",
       " '3': 73\n",
       " '4': 71\n",
       " '5': 15\n",
       " '32': 16>"
      ]
     },
     "execution_count": 126,
     "metadata": {},
     "output_type": "execute_result"
    }
   ],
   "source": [
    "epochs = mne.Epochs(raw=raw, events=events, tmin=-1, tmax=1)\n",
    "\n",
    "epochs"
   ]
  },
  {
   "cell_type": "markdown",
   "id": "90c809ed",
   "metadata": {},
   "source": [
    "As you can see:\n",
    "-   this data has 320 events across all event types.\n",
    "-   we have selected data in the [-1, +1] second window around each event.\n",
    "-   each epoch was baseline-corrected using the time from the start of each epoch to the event itself."
   ]
  },
  {
   "cell_type": "markdown",
   "id": "2b390df1",
   "metadata": {},
   "source": [
    "Similarly to `Raw` objects, we can visualise the data stored in `Epochs` objects using the `plot()` method."
   ]
  },
  {
   "cell_type": "code",
   "execution_count": 129,
   "id": "46a73297",
   "metadata": {},
   "outputs": [],
   "source": [
    "epochs.plot(scalings=\"auto\", n_epochs=3);"
   ]
  },
  {
   "cell_type": "markdown",
   "id": "b5b64d1c",
   "metadata": {},
   "source": [
    "**Exercises - creating epochs around events**\n",
    "\n",
    "3a) Create epochs around all events in the window [-2, +2] seconds around the events."
   ]
  },
  {
   "cell_type": "code",
   "execution_count": 149,
   "id": "78def82c",
   "metadata": {},
   "outputs": [
    {
     "data": {
      "text/html": [
       "<table class=\"table table-hover table-striped table-sm table-responsive small\">\n",
       "    <tr>\n",
       "        <th>Number of events</th>\n",
       "        <td>320</td>\n",
       "    </tr>\n",
       "    <tr>\n",
       "        <th>Events</th>\n",
       "        \n",
       "        <td>1: 72<br/>2: 73<br/>3: 73<br/>32: 16<br/>4: 71<br/>5: 15</td>\n",
       "        \n",
       "    </tr>\n",
       "    <tr>\n",
       "        <th>Time range</th>\n",
       "        <td>-2.000 – 2.000 s</td>\n",
       "    </tr>\n",
       "    <tr>\n",
       "        <th>Baseline</th>\n",
       "        <td>-2.000 – 0.000 s</td>\n",
       "    </tr>\n",
       "</table>"
      ],
      "text/plain": [
       "<Epochs |  320 events (good & bad), -1.99962 – 1.99962 s, baseline -1.99962 – 0 s, ~2.9 MB, data not loaded,\n",
       " '1': 72\n",
       " '2': 73\n",
       " '3': 73\n",
       " '4': 71\n",
       " '5': 15\n",
       " '32': 16>"
      ]
     },
     "execution_count": 149,
     "metadata": {},
     "output_type": "execute_result"
    }
   ],
   "source": [
    "## CODE GOES HERE\n",
    "epochs = mne.Epochs(raw=raw, events=events, tmin=-2, tmax=2)\n",
    "epochs"
   ]
  },
  {
   "cell_type": "markdown",
   "id": "933227cb",
   "metadata": {},
   "source": [
    "3b) Create epochs around all events in the window [-1, +3] seconds around the events."
   ]
  },
  {
   "cell_type": "code",
   "execution_count": 148,
   "id": "b8666842",
   "metadata": {},
   "outputs": [
    {
     "data": {
      "text/html": [
       "<table class=\"table table-hover table-striped table-sm table-responsive small\">\n",
       "    <tr>\n",
       "        <th>Number of events</th>\n",
       "        <td>320</td>\n",
       "    </tr>\n",
       "    <tr>\n",
       "        <th>Events</th>\n",
       "        \n",
       "        <td>1: 72<br/>2: 73<br/>3: 73<br/>32: 16<br/>4: 71<br/>5: 15</td>\n",
       "        \n",
       "    </tr>\n",
       "    <tr>\n",
       "        <th>Time range</th>\n",
       "        <td>-1.001 – 3.000 s</td>\n",
       "    </tr>\n",
       "    <tr>\n",
       "        <th>Baseline</th>\n",
       "        <td>-1.001 – 0.000 s</td>\n",
       "    </tr>\n",
       "</table>"
      ],
      "text/plain": [
       "<Epochs |  320 events (good & bad), -1.00064 – 3.00026 s, baseline -1.00064 – 0 s, ~2.9 MB, data not loaded,\n",
       " '1': 72\n",
       " '2': 73\n",
       " '3': 73\n",
       " '4': 71\n",
       " '5': 15\n",
       " '32': 16>"
      ]
     },
     "execution_count": 148,
     "metadata": {},
     "output_type": "execute_result"
    }
   ],
   "source": [
    "## CODE GOES HERE\n",
    "epochs = mne.Epochs(raw=raw, events=events, tmin=-1, tmax=3)\n",
    "epochs"
   ]
  },
  {
   "cell_type": "markdown",
   "id": "1dfecefc",
   "metadata": {},
   "source": [
    "3c) Create epochs around all events in the window [-0.5, +0.5] seconds around the events."
   ]
  },
  {
   "cell_type": "code",
   "execution_count": 147,
   "id": "d3fe6ce9",
   "metadata": {},
   "outputs": [
    {
     "data": {
      "text/html": [
       "<table class=\"table table-hover table-striped table-sm table-responsive small\">\n",
       "    <tr>\n",
       "        <th>Number of events</th>\n",
       "        <td>320</td>\n",
       "    </tr>\n",
       "    <tr>\n",
       "        <th>Events</th>\n",
       "        \n",
       "        <td>1: 72<br/>2: 73<br/>3: 73<br/>32: 16<br/>4: 71<br/>5: 15</td>\n",
       "        \n",
       "    </tr>\n",
       "    <tr>\n",
       "        <th>Time range</th>\n",
       "        <td>-0.499 – 0.499 s</td>\n",
       "    </tr>\n",
       "    <tr>\n",
       "        <th>Baseline</th>\n",
       "        <td>-0.499 – 0.000 s</td>\n",
       "    </tr>\n",
       "</table>"
      ],
      "text/plain": [
       "<Epochs |  320 events (good & bad), -0.499488 – 0.499488 s, baseline -0.499488 – 0 s, ~2.9 MB, data not loaded,\n",
       " '1': 72\n",
       " '2': 73\n",
       " '3': 73\n",
       " '4': 71\n",
       " '5': 15\n",
       " '32': 16>"
      ]
     },
     "execution_count": 147,
     "metadata": {},
     "output_type": "execute_result"
    }
   ],
   "source": [
    "## CODE GOES HERE\n",
    "epochs = mne.Epochs(raw=raw, events=events, tmin=-0.5, tmax=0.5)\n",
    "epochs"
   ]
  },
  {
   "cell_type": "markdown",
   "id": "1f35f53e",
   "metadata": {},
   "source": [
    "Baseline-correction of epochs involves taking the mean of a given data period and subtracting this value from each data point of the whole epoch.\n",
    "\n",
    "The `baseline` argument of `Epochs` is used to control which period is used for baseline correction.\n",
    "\n",
    "The default when creating an `Epochs` object in MNE is to take the period from the start of the epoch to the event itself as the baseline period, specified as `baseline=(None, 0)`.\n",
    "\n",
    "Like for `tmin` and `tmax`, the times in `baseline` are relative to the events.\t"
   ]
  },
  {
   "cell_type": "markdown",
   "id": "cd87de7d",
   "metadata": {},
   "source": [
    "3d) Create epochs around all events in the window [-1, +1], but only use the window [-0.5, 0] seconds as a baseline."
   ]
  },
  {
   "cell_type": "code",
   "execution_count": 146,
   "id": "442ede0e",
   "metadata": {},
   "outputs": [
    {
     "data": {
      "text/html": [
       "<table class=\"table table-hover table-striped table-sm table-responsive small\">\n",
       "    <tr>\n",
       "        <th>Number of events</th>\n",
       "        <td>320</td>\n",
       "    </tr>\n",
       "    <tr>\n",
       "        <th>Events</th>\n",
       "        \n",
       "        <td>1: 72<br/>2: 73<br/>3: 73<br/>32: 16<br/>4: 71<br/>5: 15</td>\n",
       "        \n",
       "    </tr>\n",
       "    <tr>\n",
       "        <th>Time range</th>\n",
       "        <td>-1.001 – 1.001 s</td>\n",
       "    </tr>\n",
       "    <tr>\n",
       "        <th>Baseline</th>\n",
       "        <td>-0.500 – 0.000 s</td>\n",
       "    </tr>\n",
       "</table>"
      ],
      "text/plain": [
       "<Epochs |  320 events (good & bad), -1.00064 – 1.00064 s, baseline -0.5 – 0 s, ~2.9 MB, data not loaded,\n",
       " '1': 72\n",
       " '2': 73\n",
       " '3': 73\n",
       " '4': 71\n",
       " '5': 15\n",
       " '32': 16>"
      ]
     },
     "execution_count": 146,
     "metadata": {},
     "output_type": "execute_result"
    }
   ],
   "source": [
    "## CODE GOES HERE\n",
    "epochs = mne.Epochs(raw=raw, events=events, tmin=-1, tmax=1, baseline=(-0.5, 0))\n",
    "epochs"
   ]
  },
  {
   "cell_type": "markdown",
   "id": "131574f5",
   "metadata": {},
   "source": [
    "3e) Create epochs around all events in the window [-1, +2], but only use the window [0, 2] seconds as a baseline."
   ]
  },
  {
   "cell_type": "code",
   "execution_count": 145,
   "id": "9c61e8c6",
   "metadata": {},
   "outputs": [
    {
     "data": {
      "text/html": [
       "<table class=\"table table-hover table-striped table-sm table-responsive small\">\n",
       "    <tr>\n",
       "        <th>Number of events</th>\n",
       "        <td>320</td>\n",
       "    </tr>\n",
       "    <tr>\n",
       "        <th>Events</th>\n",
       "        \n",
       "        <td>1: 72<br/>2: 73<br/>3: 73<br/>32: 16<br/>4: 71<br/>5: 15</td>\n",
       "        \n",
       "    </tr>\n",
       "    <tr>\n",
       "        <th>Time range</th>\n",
       "        <td>-1.001 – 2.000 s</td>\n",
       "    </tr>\n",
       "    <tr>\n",
       "        <th>Baseline</th>\n",
       "        <td>0.000 – 2.000 s</td>\n",
       "    </tr>\n",
       "</table>"
      ],
      "text/plain": [
       "<Epochs |  320 events (good & bad), -1.00064 – 1.99962 s, baseline 0 – 1.99962 s, ~2.9 MB, data not loaded,\n",
       " '1': 72\n",
       " '2': 73\n",
       " '3': 73\n",
       " '4': 71\n",
       " '5': 15\n",
       " '32': 16>"
      ]
     },
     "execution_count": 145,
     "metadata": {},
     "output_type": "execute_result"
    }
   ],
   "source": [
    "## CODE GOES HERE\n",
    "epochs = mne.Epochs(raw=raw, events=events, tmin=-1, tmax=2, baseline=(0, 2))\n",
    "epochs = mne.Epochs(raw=raw, events=events, tmin=-1, tmax=2, baseline=(0, None))\n",
    "epochs"
   ]
  },
  {
   "cell_type": "markdown",
   "id": "22251a6d",
   "metadata": {},
   "source": [
    "3f) Create epochs around all events in the window [-1, +2], and use this whole period as a baseline."
   ]
  },
  {
   "cell_type": "code",
   "execution_count": 144,
   "id": "0b2f262e",
   "metadata": {},
   "outputs": [
    {
     "data": {
      "text/html": [
       "<table class=\"table table-hover table-striped table-sm table-responsive small\">\n",
       "    <tr>\n",
       "        <th>Number of events</th>\n",
       "        <td>320</td>\n",
       "    </tr>\n",
       "    <tr>\n",
       "        <th>Events</th>\n",
       "        \n",
       "        <td>1: 72<br/>2: 73<br/>3: 73<br/>32: 16<br/>4: 71<br/>5: 15</td>\n",
       "        \n",
       "    </tr>\n",
       "    <tr>\n",
       "        <th>Time range</th>\n",
       "        <td>-1.001 – 2.000 s</td>\n",
       "    </tr>\n",
       "    <tr>\n",
       "        <th>Baseline</th>\n",
       "        <td>-1.001 – 2.000 s</td>\n",
       "    </tr>\n",
       "</table>"
      ],
      "text/plain": [
       "<Epochs |  320 events (good & bad), -1.00064 – 1.99962 s, baseline -1.00064 – 1.99962 s, ~2.9 MB, data not loaded,\n",
       " '1': 72\n",
       " '2': 73\n",
       " '3': 73\n",
       " '4': 71\n",
       " '5': 15\n",
       " '32': 16>"
      ]
     },
     "execution_count": 144,
     "metadata": {},
     "output_type": "execute_result"
    }
   ],
   "source": [
    "## CODE GOES HERE\n",
    "epochs = mne.Epochs(raw=raw, events=events, tmin=-1, tmax=2, baseline=(-1, 2))\n",
    "epochs = mne.Epochs(raw=raw, events=events, tmin=-1, tmax=2, baseline=(None, None))\n",
    "epochs"
   ]
  },
  {
   "cell_type": "markdown",
   "id": "b48e0647",
   "metadata": {},
   "source": [
    "Epochs for only particular event types can be specified using the `event_id` argument of `Epochs`."
   ]
  },
  {
   "cell_type": "markdown",
   "id": "e465a10c",
   "metadata": {},
   "source": [
    "3g) Create epochs around only the events with an ID of `1`."
   ]
  },
  {
   "cell_type": "code",
   "execution_count": 141,
   "id": "7ce811db",
   "metadata": {},
   "outputs": [
    {
     "data": {
      "text/html": [
       "<table class=\"table table-hover table-striped table-sm table-responsive small\">\n",
       "    <tr>\n",
       "        <th>Number of events</th>\n",
       "        <td>72</td>\n",
       "    </tr>\n",
       "    <tr>\n",
       "        <th>Events</th>\n",
       "        \n",
       "        <td>1: 72</td>\n",
       "        \n",
       "    </tr>\n",
       "    <tr>\n",
       "        <th>Time range</th>\n",
       "        <td>-0.200 – 0.499 s</td>\n",
       "    </tr>\n",
       "    <tr>\n",
       "        <th>Baseline</th>\n",
       "        <td>-0.200 – 0.000 s</td>\n",
       "    </tr>\n",
       "</table>"
      ],
      "text/plain": [
       "<Epochs |  72 events (good & bad), -0.199795 – 0.499488 s, baseline -0.199795 – 0 s, ~2.9 MB, data not loaded,\n",
       " '1': 72>"
      ]
     },
     "execution_count": 141,
     "metadata": {},
     "output_type": "execute_result"
    }
   ],
   "source": [
    "## CODE GOES HERE\n",
    "epochs = mne.Epochs(raw=raw, events=events, event_id=1)"
   ]
  },
  {
   "cell_type": "markdown",
   "id": "db1b749f",
   "metadata": {},
   "source": [
    "3h) Create epochs around only the events with an ID of `2`."
   ]
  },
  {
   "cell_type": "code",
   "execution_count": 142,
   "id": "60bc6332",
   "metadata": {},
   "outputs": [
    {
     "data": {
      "text/html": [
       "<table class=\"table table-hover table-striped table-sm table-responsive small\">\n",
       "    <tr>\n",
       "        <th>Number of events</th>\n",
       "        <td>73</td>\n",
       "    </tr>\n",
       "    <tr>\n",
       "        <th>Events</th>\n",
       "        \n",
       "        <td>2: 73</td>\n",
       "        \n",
       "    </tr>\n",
       "    <tr>\n",
       "        <th>Time range</th>\n",
       "        <td>-0.200 – 0.499 s</td>\n",
       "    </tr>\n",
       "    <tr>\n",
       "        <th>Baseline</th>\n",
       "        <td>-0.200 – 0.000 s</td>\n",
       "    </tr>\n",
       "</table>"
      ],
      "text/plain": [
       "<Epochs |  73 events (good & bad), -0.199795 – 0.499488 s, baseline -0.199795 – 0 s, ~2.9 MB, data not loaded,\n",
       " '2': 73>"
      ]
     },
     "execution_count": 142,
     "metadata": {},
     "output_type": "execute_result"
    }
   ],
   "source": [
    "## CODE GOES HERE\n",
    "epochs = mne.Epochs(raw=raw, events=events, event_id=2)\n",
    "epochs"
   ]
  },
  {
   "cell_type": "markdown",
   "id": "ac6f1ad7",
   "metadata": {},
   "source": [
    "3i) Create epochs around only the events with a IDs of `1`, `2`, and `3`."
   ]
  },
  {
   "cell_type": "code",
   "execution_count": 143,
   "id": "13794689",
   "metadata": {},
   "outputs": [
    {
     "data": {
      "text/html": [
       "<table class=\"table table-hover table-striped table-sm table-responsive small\">\n",
       "    <tr>\n",
       "        <th>Number of events</th>\n",
       "        <td>218</td>\n",
       "    </tr>\n",
       "    <tr>\n",
       "        <th>Events</th>\n",
       "        \n",
       "        <td>1: 72<br/>2: 73<br/>3: 73</td>\n",
       "        \n",
       "    </tr>\n",
       "    <tr>\n",
       "        <th>Time range</th>\n",
       "        <td>-0.200 – 0.499 s</td>\n",
       "    </tr>\n",
       "    <tr>\n",
       "        <th>Baseline</th>\n",
       "        <td>-0.200 – 0.000 s</td>\n",
       "    </tr>\n",
       "</table>"
      ],
      "text/plain": [
       "<Epochs |  218 events (good & bad), -0.199795 – 0.499488 s, baseline -0.199795 – 0 s, ~2.9 MB, data not loaded,\n",
       " '1': 72\n",
       " '2': 73\n",
       " '3': 73>"
      ]
     },
     "execution_count": 143,
     "metadata": {},
     "output_type": "execute_result"
    }
   ],
   "source": [
    "## CODE GOES HERE\n",
    "epochs = mne.Epochs(raw=raw, events=events, event_id=[1, 2, 3])\n",
    "epochs"
   ]
  }
 ],
 "metadata": {
  "kernelspec": {
   "display_name": "Python 3",
   "language": "python",
   "name": "python3"
  },
  "language_info": {
   "codemirror_mode": {
    "name": "ipython",
    "version": 3
   },
   "file_extension": ".py",
   "mimetype": "text/x-python",
   "name": "python",
   "nbconvert_exporter": "python",
   "pygments_lexer": "ipython3",
   "version": "3.12.0"
  }
 },
 "nbformat": 4,
 "nbformat_minor": 5
}
